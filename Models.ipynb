{
 "cells": [
  {
   "cell_type": "code",
   "execution_count": 10,
   "id": "029c68a7-6b53-4e21-9b7e-e9ce35f904fe",
   "metadata": {},
   "outputs": [
    {
     "name": "stdout",
     "output_type": "stream",
     "text": [
      "Preprocessing file executed successfully.\n",
      "SQLServerLink file executed successfully.\n"
     ]
    }
   ],
   "source": [
    "%run \"SQLServerLink.ipynb\""
   ]
  },
  {
   "cell_type": "code",
   "execution_count": null,
   "id": "63237d29-7576-4004-871e-b2c06797e732",
   "metadata": {},
   "outputs": [],
   "source": [
    "server = 'DESKTOP-N9ACFNI\\\\SQLEXPRESS'\n",
    "database = 'DataMining'\n",
    "username = 'Sandra'\n",
    "password = '12345'\n",
    "create_tables_and_load_data(server, database, username, password, df_merged, df_extracted, df_final)"
   ]
  },
  {
   "cell_type": "code",
   "execution_count": null,
   "id": "2b7a8331-7a17-4f97-b810-87176e445cf1",
   "metadata": {},
   "outputs": [],
   "source": [
    "from sklearn.model_selection import train_test_split\n",
    "from sklearn.linear_model import LinearRegression\n",
    "from sklearn.metrics import mean_squared_error\n",
    "from sklearn.metrics import r2_score"
   ]
  },
  {
   "cell_type": "code",
   "execution_count": null,
   "id": "b1cef683-c573-42d7-953c-f1df7e2b2db7",
   "metadata": {},
   "outputs": [],
   "source": [
    "# Split data into features (X) and target variable (y)\n",
    "X = df_final.drop('Weekly_Sales', axis=1)\n",
    "y = df_final['Weekly_Sales']"
   ]
  },
  {
   "cell_type": "code",
   "execution_count": null,
   "id": "92375a13-5afe-4298-88f5-46a99dafe452",
   "metadata": {},
   "outputs": [],
   "source": [
    "def train_evaluate_linear_regression(X, y, test_size=0.2, random_state=42):\n",
    "    # Split data into training and testing sets\n",
    "    X_train, X_test, y_train, y_test = train_test_split(X, y, test_size=test_size, random_state=random_state)\n",
    "\n",
    "    # Initialize the linear regression model\n",
    "    model = LinearRegression()\n",
    "\n",
    "    # Train the model on the training data\n",
    "    model.fit(X_train, y_train)\n",
    "\n",
    "    # Make predictions on the testing data\n",
    "    y_pred = model.predict(X_test)\n",
    "\n",
    "    # Evaluate the model\n",
    "    mse = mean_squared_error(y_test, y_pred)\n",
    "    r2 = r2_score(y_test, y_pred)\n",
    "    \n",
    "    # Print metrics\n",
    "    print(\"Mean Squared Error:\", mse)\n",
    "    print(\"R-squared score:\", r2)\n",
    "    \n",
    "    return X_test, y_test, y_pred\n"
   ]
  },
  {
   "cell_type": "code",
   "execution_count": null,
   "id": "b265bd7b-d784-4a6f-a896-df1d0ab55c86",
   "metadata": {},
   "outputs": [],
   "source": [
    "X_testLR,y_testLR,y_predLR = train_evaluate_linear_regression(X, y)"
   ]
  },
  {
   "cell_type": "code",
   "execution_count": null,
   "id": "e814b166-0c29-4161-ad7f-7e7a7a3ce07b",
   "metadata": {},
   "outputs": [],
   "source": [
    "from sklearn.ensemble import RandomForestRegressor\n",
    "\n",
    "def train_evaluate_random_forest(X, y, n_estimators=50, test_size=0.2, random_state=42):\n",
    "    # Split data into training and testing sets\n",
    "    X_train, X_test, y_train, y_test = train_test_split(X, y, test_size=test_size, random_state=random_state)\n",
    "\n",
    "    # Initialize the Random Forest Regression model\n",
    "    rf_model = RandomForestRegressor(n_estimators=n_estimators, random_state=random_state)\n",
    "\n",
    "    # Train the model on the training data\n",
    "    rf_model.fit(X_train, y_train)\n",
    "\n",
    "    # Make predictions on the testing data\n",
    "    y_pred = rf_model.predict(X_test)\n",
    "\n",
    "    # Evaluate the model\n",
    "    mse = mean_squared_error(y_test, y_pred)\n",
    "    r2 = r2_score(y_test, y_pred)\n",
    "    \n",
    "    # Print metrics\n",
    "    print(\"Mean Squared Error:\", mse)\n",
    "    print(\"R-squared score:\", r2)\n",
    "    \n",
    "    return X_test, y_test, y_pred\n"
   ]
  },
  {
   "cell_type": "code",
   "execution_count": null,
   "id": "1e05771d-c57a-46e5-8d22-e627ddf84543",
   "metadata": {},
   "outputs": [],
   "source": [
    "from sklearn.ensemble import RandomForestRegressor\n",
    "from sklearn.model_selection import train_test_split\n",
    "from sklearn.metrics import mean_squared_error, r2_score\n",
    "import joblib\n",
    "\n",
    "def train_evaluate_save_random_forest(X, y, model_path='random_forest_model.joblib', n_estimators=50, test_size=0.2, random_state=42):\n",
    "    # Split data into training and testing sets\n",
    "    X_train, X_test, y_train, y_test = train_test_split(X, y, test_size=test_size, random_state=random_state)\n",
    "\n",
    "    # Initialize and train the Random Forest Regression model\n",
    "    rf_model = RandomForestRegressor(n_estimators=n_estimators, random_state=random_state)\n",
    "    rf_model.fit(X_train, y_train)\n",
    "\n",
    "    # Make predictions and evaluate the model\n",
    "    y_pred = rf_model.predict(X_test)\n",
    "    mse, r2 = mean_squared_error(y_test, y_pred), r2_score(y_test, y_pred)\n",
    "    print(f\"Mean Squared Error: {mse}\\nR-squared score: {r2}\")\n",
    "\n",
    "    # Save the model to a file\n",
    "    joblib.dump(rf_model, model_path)\n",
    "\n",
    "    return X_test, y_test, y_pred\n",
    "\n",
    "# Example usage\n",
    "# X, y = your_data_loading_function()\n",
    "# train_evaluate_save_random_forest(X, y)\n"
   ]
  },
  {
   "cell_type": "code",
   "execution_count": null,
   "id": "66958434-9465-465b-8968-9fe205529fa9",
   "metadata": {},
   "outputs": [],
   "source": [
    "X_testRF,y_testRF,y_predRF = train_evaluate_random_forest(X, y)\n"
   ]
  },
  {
   "cell_type": "code",
   "execution_count": null,
   "id": "b8c6612e-3b94-463f-ba2a-795889178238",
   "metadata": {},
   "outputs": [],
   "source": [
    "# Create a DataFrame for the predictions\n",
    "df_predictions = pd.DataFrame(X_testRF, columns=X.columns)\n",
    "df_predictions['Actual'] = y_testRF\n",
    "df_predictions['Predicted'] = y_predRF\n",
    "df_predictions = pd.merge(df_predictions, dropped_columns, on='ID', how='inner')"
   ]
  },
  {
   "cell_type": "code",
   "execution_count": null,
   "id": "2ae671d0-102c-48b0-8068-80459af1e168",
   "metadata": {},
   "outputs": [],
   "source": [
    "table_name_predictions = 'ModelPredictionsRandomForest'"
   ]
  },
  {
   "cell_type": "code",
   "execution_count": null,
   "id": "3e2aecf9-4ecf-4f74-93de-6c48d7d858c7",
   "metadata": {},
   "outputs": [],
   "source": [
    "create_predictions_table_and_load_data(server, database, username, password, df_predictions, table_name_predictions)"
   ]
  },
  {
   "cell_type": "code",
   "execution_count": null,
   "id": "1a38c76a-adb5-4697-a165-7247561ab405",
   "metadata": {},
   "outputs": [],
   "source": [
    "print('Models and Final Link file executed successfully.')"
   ]
  }
 ],
 "metadata": {
  "kernelspec": {
   "display_name": "Python 3 (ipykernel)",
   "language": "python",
   "name": "python3"
  },
  "language_info": {
   "codemirror_mode": {
    "name": "ipython",
    "version": 3
   },
   "file_extension": ".py",
   "mimetype": "text/x-python",
   "name": "python",
   "nbconvert_exporter": "python",
   "pygments_lexer": "ipython3",
   "version": "3.12.4"
  }
 },
 "nbformat": 4,
 "nbformat_minor": 5
}
