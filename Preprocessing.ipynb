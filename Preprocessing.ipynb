{
 "cells": [
  {
   "cell_type": "code",
   "execution_count": 1,
   "id": "62875459-26ec-43e5-bf46-1816df56234b",
   "metadata": {},
   "outputs": [],
   "source": [
    "# Importing libraries\n",
    "import pandas as pd\n",
    "import numpy as np\n",
    "import matplotlib.pyplot as plt\n",
    "import seaborn as sns\n",
    "import tensorflow as tensorflow\n",
    "from tensorflow import keras\n",
    "from sklearn.preprocessing import StandardScaler, LabelEncoder\n",
    "from sklearn.compose import ColumnTransformer\n",
    "from sklearn.pipeline import Pipeline"
   ]
  },
  {
   "cell_type": "code",
   "execution_count": 2,
   "id": "87596fc8-7124-4de9-bae8-ee00e07e4137",
   "metadata": {},
   "outputs": [],
   "source": [
    "# Function to read CSV files\n",
    "def read_csv_files():\n",
    "    df_features = pd.read_csv(r\"D:\\JupyterNotebooks\\Features data set.csv\")\n",
    "    df_sales = pd.read_csv(r\"D:\\JupyterNotebooks\\sales data-set.csv\")\n",
    "    df_stores = pd.read_csv(r\"D:\\JupyterNotebooks\\stores data-set.csv\")\n",
    "    return df_features, df_sales, df_stores\n",
    "\n",
    "# Function to process date columns\n",
    "def process_dates(df_features, df_sales):\n",
    "    df_features['Date'] = pd.to_datetime(df_features['Date'], format='mixed', errors='coerce')\n",
    "    df_sales['Date'] = pd.to_datetime(df_sales['Date'], format='mixed', errors='coerce')\n",
    "    return df_features, df_sales\n",
    "\n",
    "# Function to merge datasets\n",
    "def merge_datasets(df_sales, df_features, df_stores):\n",
    "    df = pd.merge(df_sales, df_features, how='left', on=['Store', 'Date', 'IsHoliday'])\n",
    "    df_new = pd.merge(df, df_stores, how='left', on='Store')\n",
    "    return df_new\n",
    "\n",
    "# Function to fill missing values\n",
    "def fill_missing_values(df):\n",
    "    df_filled = df.fillna(0)\n",
    "    return df_filled\n",
    "\n",
    "# Function to extract date components\n",
    "def extract_date_components(df):\n",
    "    df['Year'] = df['Date'].dt.year\n",
    "    df['Month'] = df['Date'].dt.month\n",
    "    df['Day'] = df['Date'].dt.day\n",
    "    df['WeekOfYear'] = df['Date'].dt.isocalendar().week\n",
    "    return df\n",
    "\n",
    "# Function to drop the Date column\n",
    "def drop_date_column(df):\n",
    "    df.drop(columns=['Date'], inplace=True)\n",
    "    return df\n",
    "\n",
    "# Function to separate numerical and categorical variables\n",
    "def separate_variables(df):\n",
    "    cat_cols = ['Store', 'Dept', 'IsHoliday', 'Type']\n",
    "    num_cols = df.columns.drop(cat_cols)\n",
    "    return cat_cols, num_cols\n",
    "\n",
    "# Function to encode categorical features\n",
    "def encode_categorical_features(df, cat_cols):\n",
    "    label_encoder = LabelEncoder()\n",
    "    df[cat_cols] = df[cat_cols].apply(lambda x: label_encoder.fit_transform(x.astype(str)))\n",
    "    return df\n",
    "\n",
    "# Function to standardize numerical features\n",
    "def standardize_numerical_features(df, num_cols):\n",
    "    scaler = StandardScaler()\n",
    "    df[num_cols] = scaler.fit_transform(df[num_cols])\n",
    "    return df\n",
    "\n",
    "# Function to drop outliers using z-score method\n",
    "def drop_outliers_zscore(df, columns):\n",
    "    z_scores = np.abs((df[columns] - df[columns].mean()) / df[columns].std())\n",
    "    df_cleaned = df[(z_scores <= 3).all(axis=1)]  # Threshold z-score of 3 for outliers\n",
    "    return df_cleaned\n",
    "\n",
    "# Function to save columns before dropping\n",
    "def save_dropped_columns(df, cols_to_drop):\n",
    "    dropped_columns = df[cols_to_drop].copy()\n",
    "    return dropped_columns\n",
    "\n",
    "# Main preprocessing function\n",
    "def preprocessing():\n",
    "    df_features, df_sales, df_stores = read_csv_files()\n",
    "    df_features, df_sales = process_dates(df_features, df_sales)\n",
    "    df_merged = merge_datasets(df_sales, df_features, df_stores)\n",
    "    df_filled = fill_missing_values(df_merged)\n",
    "    df_extracted = extract_date_components(df_filled)\n",
    "    df_no_date = drop_date_column(df_extracted)\n",
    "    cat_cols, num_cols = separate_variables(df_no_date)\n",
    "    df_encoded = encode_categorical_features(df_no_date, cat_cols)\n",
    "    df_standardized = standardize_numerical_features(df_encoded, num_cols)\n",
    "    df_cleaned = drop_outliers_zscore(df_standardized, num_cols)\n",
    "\n",
    "    # Save columns before dropping\n",
    "    cols_to_drop = ['IsHoliday', 'Temperature', 'Fuel_Price', 'Day', 'Year']\n",
    "    dropped_columns = save_dropped_columns(df_cleaned, cols_to_drop)\n",
    "\n",
    "    # Drop columns\n",
    "    df_final = df_cleaned.drop(cols_to_drop, axis=1)\n",
    "\n",
    "    return df_final, dropped_columns\n",
    "\n",
    "# Usage\n",
    "\n",
    "# df_extracted = extract_date_components(df_filled)\n",
    "# df_no_date = drop_date_column(df_extracted)\n",
    "# cat_cols, num_cols = separate_variables(df_no_date)\n",
    "# df_encoded = encode_categorical_features(df_no_date, cat_cols)\n",
    "# df_standardized = standardize_numerical_features(df_encoded, num_cols)\n",
    "# df_cleaned = drop_outliers_zscore(df_standardized, num_cols)\n"
   ]
  },
  {
   "cell_type": "code",
   "execution_count": 3,
   "id": "62d884d1-6eb8-4bcb-94fb-c1bbd3ddd055",
   "metadata": {},
   "outputs": [],
   "source": [
    "def add_id_column(df):\n",
    "    df['ID'] = df.reset_index().index + 1\n",
    "    return df\n",
    "\n",
    "\n"
   ]
  },
  {
   "cell_type": "code",
   "execution_count": 4,
   "id": "c206adfd-8780-4884-ae4e-840e229c40dc",
   "metadata": {},
   "outputs": [
    {
     "name": "stdout",
     "output_type": "stream",
     "text": [
      "Preprocessing file executed successfully.\n"
     ]
    }
   ],
   "source": [
    "print('Preprocessing file executed successfully.')"
   ]
  },
  {
   "cell_type": "code",
   "execution_count": null,
   "id": "a47b9b7c-e65d-4c10-ab99-b708e56d5343",
   "metadata": {},
   "outputs": [],
   "source": []
  }
 ],
 "metadata": {
  "kernelspec": {
   "display_name": "Python 3 (ipykernel)",
   "language": "python",
   "name": "python3"
  },
  "language_info": {
   "codemirror_mode": {
    "name": "ipython",
    "version": 3
   },
   "file_extension": ".py",
   "mimetype": "text/x-python",
   "name": "python",
   "nbconvert_exporter": "python",
   "pygments_lexer": "ipython3",
   "version": "3.12.4"
  }
 },
 "nbformat": 4,
 "nbformat_minor": 5
}
