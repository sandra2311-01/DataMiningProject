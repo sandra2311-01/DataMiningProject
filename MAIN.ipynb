{
 "cells": [
  {
   "cell_type": "code",
   "execution_count": 1,
   "id": "b2d87999-6762-4f77-8b4a-bb3f671a819a",
   "metadata": {},
   "outputs": [
    {
     "name": "stdout",
     "output_type": "stream",
     "text": [
      "Preprocessing file executed successfully.\n",
      "SQLServerLink file executed successfully.\n",
      "Table \"df_merged\" created and data inserted successfully.\n",
      "Table \"df_extracted\" created and data inserted successfully.\n",
      "Table \"AfterPreprocessing\" created and data inserted successfully.\n",
      "Mean Squared Error: 0.5038762939707173\n",
      "R-squared score: 0.08406688348499569\n",
      "Mean Squared Error: 0.020508771279205255\n",
      "R-squared score: 0.9627196932691031\n",
      "Mean Squared Error: 0.020652788432481337\n",
      "R-squared score: 0.96245790266373\n",
      "Table \"ModelPredictionsRandomForest\" created and data inserted successfully.\n",
      "Models and Final Link file executed successfully.\n"
     ]
    }
   ],
   "source": [
    "%run \"Models.ipynb\""
   ]
  },
  {
   "cell_type": "code",
   "execution_count": null,
   "id": "75e5909f-2a0d-44b4-b9fa-2c5055d605d9",
   "metadata": {},
   "outputs": [],
   "source": []
  },
  {
   "cell_type": "code",
   "execution_count": null,
   "id": "113537ce-5fcc-4096-b144-e3965b24b5c0",
   "metadata": {},
   "outputs": [],
   "source": []
  }
 ],
 "metadata": {
  "kernelspec": {
   "display_name": "Python 3 (ipykernel)",
   "language": "python",
   "name": "python3"
  },
  "language_info": {
   "codemirror_mode": {
    "name": "ipython",
    "version": 3
   },
   "file_extension": ".py",
   "mimetype": "text/x-python",
   "name": "python",
   "nbconvert_exporter": "python",
   "pygments_lexer": "ipython3",
   "version": "3.12.4"
  }
 },
 "nbformat": 4,
 "nbformat_minor": 5
}
